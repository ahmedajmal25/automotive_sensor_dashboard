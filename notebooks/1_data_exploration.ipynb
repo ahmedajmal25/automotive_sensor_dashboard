{
 "cells": [
  {
   "cell_type": "code",
   "execution_count": null,
   "id": "4ffa6e82-089d-419e-a3ba-4fac475a3a02",
   "metadata": {},
   "outputs": [],
   "source": [
    "# Cell 1: Import Libraries\n",
    "import pandas as pd\n",
    "import seaborn as sns\n",
    "import matplotlib.pyplot as plt\n",
    "import plotly.express as px\n",
    "\n",
    "%matplotlib inline\n",
    "sns.set_style(\"whitegrid\")\n",
    "sns.set_palette(\"Blues\")\n",
    "\n",
    "print(\"Libraries imported.\")"
   ]
  },
  {
   "cell_type": "code",
   "execution_count": null,
   "id": "2ea86de0-1c50-476c-9501-7c99dab62937",
   "metadata": {},
   "outputs": [],
   "source": [
    "# Cell 2: Load and Clean Data\n",
    "# Load engine_data.csv (relative to notebooks/)\n",
    "df = pd.read_csv('../data/engine_data.csv')\n",
    "\n",
    "# Rename columns to snake_case (matching src/data/loader.py)\n",
    "df.columns = [\n",
    "    'engine_rpm', 'lub_oil_pressure', 'fuel_pressure',\n",
    "    'coolant_pressure', 'lub_oil_temp', 'coolant_temp', 'engine_condition'\n",
    "]\n",
    "\n",
    "# Preview data\n",
    "print(\"Dataset Preview:\")\n",
    "df.head()"
   ]
  },
  {
   "cell_type": "code",
   "execution_count": null,
   "id": "f56d3952-5d0a-40cf-a143-ef1d5588135f",
   "metadata": {},
   "outputs": [],
   "source": [
    "# Cell 3: Data Summary\n",
    "# Statistics\n",
    "print(\"Dataset Statistics:\")\n",
    "print(df.describe())\n",
    "\n",
    "# Missing values\n",
    "print(\"\\nMissing Values:\")\n",
    "print(df.isnull().sum())\n",
    "\n",
    "# Engine condition counts\n",
    "print(\"\\nEngine Condition Counts (1=Healthy, 0=Unhealthy):\")\n",
    "print(df['engine_condition'].value_counts())"
   ]
  },
  {
   "cell_type": "code",
   "execution_count": null,
   "id": "24ef5858-447d-4254-a9ca-b3b9cdbe2009",
   "metadata": {},
   "outputs": [],
   "source": [
    "# Cell 4: Pairplot\n",
    "# pairwise relationships\n",
    "print(\"Generating Pairplot...\")\n",
    "sns.pairplot(df, hue='engine_condition', diag_kind='hist')\n",
    "plt.suptitle(\"Pairplot of Engine Sensors by Condition\", y=1.02)\n",
    "plt.show()"
   ]
  },
  {
   "cell_type": "code",
   "execution_count": null,
   "id": "709dc117-0c2e-4cd9-b6e0-786ec769563f",
   "metadata": {},
   "outputs": [],
   "source": [
    "# Cell 5: Violinplot\n",
    "# Distribution of coolant_temp\n",
    "print(\"Generating Violinplot...\")\n",
    "plt.figure(figsize=(8, 6))\n",
    "sns.violinplot(x='engine_condition', y='coolant_temp', data=df)\n",
    "plt.title(\"Coolant Temperature by Engine Condition\")\n",
    "plt.xlabel(\"Engine Condition (1=Healthy, 0=Unhealthy)\")\n",
    "plt.ylabel(\"Coolant Temperature (°C)\")\n",
    "plt.show()"
   ]
  },
  {
   "cell_type": "code",
   "execution_count": null,
   "id": "8b8a2bfc-b3c6-4d73-b3b2-6289f39e78f8",
   "metadata": {},
   "outputs": [],
   "source": [
    "# Cell 6: Heatmap\n",
    "# Correlation matrix\n",
    "print(\"Generating Heatmap...\")\n",
    "plt.figure(figsize=(10, 8))\n",
    "corr = df.drop('engine_condition', axis=1).corr()\n",
    "sns.heatmap(corr, annot=True, cmap='Blues', vmin=-1, vmax=1)\n",
    "plt.title(\"Correlation Heatmap of Engine Sensors\")\n",
    "plt.show()"
   ]
  },
  {
   "cell_type": "code",
   "execution_count": null,
   "id": "681db987-87d7-40c0-86b8-60c639e55c61",
   "metadata": {},
   "outputs": [],
   "source": [
    "# Cell 7: Boxplot\n",
    "# Outliers in engine_rpm\n",
    "print(\"Generating Boxplot...\")\n",
    "plt.figure(figsize=(8, 6))\n",
    "sns.boxplot(x='engine_condition', y='engine_rpm', data=df)\n",
    "plt.title(\"Engine RPM by Engine Condition\")\n",
    "plt.xlabel(\"Engine Condition (1=Healthy, 0=Unhealthy)\")\n",
    "plt.ylabel(\"Engine RPM\")\n",
    "plt.show()"
   ]
  },
  {
   "cell_type": "code",
   "execution_count": null,
   "id": "f47a157b-a1de-40fe-b39f-018dd4e6ac60",
   "metadata": {},
   "outputs": [],
   "source": [
    "# Cell 8: Scatter Plot\n",
    "# Engine_rpm vs. lub_oil_pressure\n",
    "print(\"Generating Scatter Plot...\")\n",
    "plt.figure(figsize=(8, 6))\n",
    "sns.scatterplot(x='engine_rpm', y='lub_oil_pressure', hue='engine_condition', data=df)\n",
    "plt.title(\"Engine RPM vs. Lubrication Oil Pressure\")\n",
    "plt.xlabel(\"Engine RPM\")\n",
    "plt.ylabel(\"Lubrication Oil Pressure (bar)\")\n",
    "plt.show()"
   ]
  },
  {
   "cell_type": "code",
   "execution_count": null,
   "id": "f26bec0f-9b50-4d65-adf8-1f4bd1ed480d",
   "metadata": {},
   "outputs": [],
   "source": [
    "# Cell 9: Plotly Boxplot\n",
    "print(\"Generating Plotly Boxplot...\")\n",
    "fig = px.box(df, x='engine_condition', y='engine_rpm', color='engine_condition',\n",
    "             title=\"Engine RPM by Engine Condition\")\n",
    "fig.update_layout(xaxis_title=\"Engine Condition (1=Healthy, 0=Unhealthy)\",\n",
    "                  yaxis_title=\"Engine RPM\")\n",
    "fig.show()"
   ]
  },
  {
   "cell_type": "code",
   "execution_count": null,
   "id": "a0a66cf1-bfe4-47fb-9867-91effed413e4",
   "metadata": {},
   "outputs": [],
   "source": [
    "# Cell 10: Plotly Scatter\n",
    "print(\"Generating Plotly Scatter...\")\n",
    "fig = px.scatter(df, x='engine_rpm', y='lub_oil_pressure', color='engine_condition',\n",
    "                 title=\"Engine RPM vs. Lubrication Oil Pressure\")\n",
    "fig.update_layout(xaxis_title=\"Engine RPM\", yaxis_title=\"Lubrication Oil Pressure (bar)\")\n",
    "fig.show()"
   ]
  }
 ],
 "metadata": {
  "kernelspec": {
   "display_name": "Python 3 (ipykernel)",
   "language": "python",
   "name": "python3"
  },
  "language_info": {
   "codemirror_mode": {
    "name": "ipython",
    "version": 3
   },
   "file_extension": ".py",
   "mimetype": "text/x-python",
   "name": "python",
   "nbconvert_exporter": "python",
   "pygments_lexer": "ipython3",
   "version": "3.13.2"
  }
 },
 "nbformat": 4,
 "nbformat_minor": 5
}
